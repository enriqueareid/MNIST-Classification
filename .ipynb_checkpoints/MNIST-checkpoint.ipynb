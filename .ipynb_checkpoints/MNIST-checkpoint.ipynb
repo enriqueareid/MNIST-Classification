{
 "cells": [
  {
   "cell_type": "code",
   "execution_count": 1,
   "metadata": {
    "code_folding": [
     0
    ]
   },
   "outputs": [],
   "source": [
    "# Initialize\n",
    "from random import randint\n",
    "import torch\n",
    "import torch.nn as nn\n",
    "import torch.nn.functional as F\n",
    "import torch.optim as optim\n",
    "from torch.optim.lr_scheduler import StepLR\n",
    "import torchvision\n",
    "import torchvision.transforms as transforms\n",
    "import matplotlib.pyplot as plt\n",
    "from tqdm import tqdm\n",
    "\n",
    "%matplotlib inline\n",
    "torch.set_printoptions(precision=8)\n",
    "\n",
    "# Printing Options\n",
    "class colors:\n",
    "    reset='\\033[0m'\n",
    "    bold='\\033[01m'\n",
    "    disable='\\033[02m'\n",
    "    underline='\\033[04m'\n",
    "    reverse='\\033[07m'\n",
    "    strikethrough='\\033[09m'\n",
    "    invisible='\\033[08m'\n",
    "    class fg:\n",
    "        black='\\033[30m'\n",
    "        red='\\033[31m'\n",
    "        green='\\033[32m'\n",
    "        orange='\\033[33m'\n",
    "        blue='\\033[34m'\n",
    "        purple='\\033[35m'\n",
    "        cyan='\\033[36m'\n",
    "        lightgrey='\\033[37m'\n",
    "        darkgrey='\\033[90m'\n",
    "        lightred='\\033[91m'\n",
    "        lightgreen='\\033[92m'\n",
    "        yellow='\\033[93m'\n",
    "        lightblue='\\033[94m'\n",
    "        pink='\\033[95m'\n",
    "        lightcyan='\\033[96m'\n",
    "    class bg:\n",
    "        black='\\033[40m'\n",
    "        red='\\033[41m'\n",
    "        green='\\033[42m'\n",
    "        orange='\\033[43m'\n",
    "        blue='\\033[44m'\n",
    "        purple='\\033[45m'\n",
    "        cyan='\\033[46m'\n",
    "        lightgrey='\\033[47m'\n",
    "\n",
    "if torch.cuda.is_available() == True:\n",
    "    device = torch.device(\"cuda\")\n",
    "else:\n",
    "    deivce = torch.device(\"cpu\")"
   ]
  },
  {
   "cell_type": "code",
   "execution_count": 2,
   "metadata": {
    "code_folding": [
     0
    ]
   },
   "outputs": [],
   "source": [
    "# Load Data\n",
    "train_set = torchvision.datasets.MNIST(\n",
    "    root='',\n",
    "    train=True, \n",
    "    download=False, \n",
    "    transform=transforms.Compose([\n",
    "        transforms.Resize((32, 32)), # Resize image to fit LeNet-5\n",
    "        transforms.ToTensor() # Convert PIL.Images to torch.tensors\n",
    "    ])\n",
    ")\n",
    "\n",
    "test_set = torchvision.datasets.MNIST(\n",
    "    root='', \n",
    "    train=False, \n",
    "    download=False, \n",
    "    transform=transforms.Compose([\n",
    "        transforms.Resize((32, 32)), \n",
    "        transforms.ToTensor()\n",
    "    ])\n",
    ")"
   ]
  },
  {
   "cell_type": "code",
   "execution_count": 3,
   "metadata": {
    "code_folding": [
     0
    ],
    "scrolled": true
   },
   "outputs": [
    {
     "name": "stdout",
     "output_type": "stream",
     "text": [
      "ConvNet5(\n",
      "  (conv1): Conv2d(1, 8, kernel_size=(5, 5), stride=(1, 1))\n",
      "  (conv1_bn): BatchNorm2d(8, eps=1e-05, momentum=0.1, affine=True, track_running_stats=True)\n",
      "  (conv2): Conv2d(8, 32, kernel_size=(5, 5), stride=(1, 1))\n",
      "  (conv2_dp): Dropout2d(p=0.4, inplace=False)\n",
      "  (fc1): Linear(in_features=800, out_features=256, bias=True)\n",
      "  (fc1_dp): Dropout(p=0.4, inplace=False)\n",
      "  (fc2): Linear(in_features=256, out_features=84, bias=True)\n",
      "  (fc2_bn): BatchNorm1d(84, eps=1e-05, momentum=0.1, affine=True, track_running_stats=True)\n",
      "  (fc3): Linear(in_features=84, out_features=10, bias=True)\n",
      ")\n"
     ]
    }
   ],
   "source": [
    "class ConvNet5(nn.Module):\n",
    "    def __init__(self):\n",
    "        super(ConvNet5, self).__init__()\n",
    "        \n",
    "        # Convolutional Layers\n",
    "        self.conv1 = nn.Conv2d(1, 8, 5) # ConvLayer 1 -> 1 input channel, 6 output channels, f=(5 x 5)\n",
    "        self.conv1_bn = nn.BatchNorm2d(8)\n",
    "        self.conv2 = nn.Conv2d(8, 32, 5) # ConvLayer 2 -> 6 input channels, 16 output channels, f=(5 x 5) \n",
    "        self.conv2_dp = nn.Dropout2d(0.4) # Dropout - keep_prob = 0.3\n",
    "        \n",
    "        # Fully Connected Layers\n",
    "        self.fc1 = nn.Linear(800, 256) # Fully connected layer 1 -> 400 | 120\n",
    "        self.fc1_dp = nn.Dropout(0.4) # Dropout - keep_prob = 0.4\n",
    "        self.fc2 = nn.Linear(256, 84) # Fully connected layer 2 -> 120 | 84\n",
    "        self.fc2_bn = nn.BatchNorm1d(84)\n",
    "        self.fc3 = nn.Linear(84, 10) # Output\n",
    "        \n",
    "    def forward(self, X):\n",
    "        A = F.relu(F.max_pool2d(self.conv1_bn(self.conv1(X)), 2)) # ReLU(Max_Pool()) -> stride=2\n",
    "        A = F.relu(F.max_pool2d(self.conv2_dp(self.conv2(A)), 2)) # ReLU(Max_Pool()) -> stride=2\n",
    "        \n",
    "        A = A.view(A.size()[0], -1) # Unroll the activation\n",
    "        \n",
    "        A = F.relu(self.fc1_dp(self.fc1(A))) # ReLU Activation on FC layer 1\n",
    "        A = F.relu(self.fc2_bn(self.fc2(A))) # ReLU Activation on FC layer 2\n",
    "        A = self.fc3(A) # Output\n",
    "        \n",
    "        return A\n",
    "    \n",
    "model = ConvNet5().to(device)\n",
    "print(model)\n",
    "optimizer = optim.Adam(model.parameters(), lr=0.0033) # optimizer -> ADAM\n",
    "scheduler = StepLR(optimizer, step_size=2, gamma=0.79433)\n",
    "criterion = nn.CrossEntropyLoss() # loss function -> Cross-Entropy Loss\n",
    "counter = 0 # Set iteration counter to 0"
   ]
  },
  {
   "cell_type": "code",
   "execution_count": 4,
   "metadata": {
    "code_folding": [
     0
    ]
   },
   "outputs": [
    {
     "name": "stdout",
     "output_type": "stream",
     "text": [
      "\u001b[32m\u001b[01mEpoch 0:\u001b[0m\n",
      "Cost on iteration 0: 2.36912\n",
      "Cost on iteration 1000: 0.03504\n",
      "Cost on iteration 2000: 0.02639\n",
      "\u001b[32m\u001b[01mEpoch 20:\u001b[0m\n",
      "Cost on iteration 3000: 0.00365\n",
      "Cost on iteration 4000: 0.03174\n",
      "\u001b[32m\u001b[01mEpoch 40:\u001b[0m\n",
      "Cost on iteration 5000: 0.01407\n",
      "Cost on iteration 6000: 0.00765\n",
      "Cost on iteration 7000: 0.00687\n",
      "\u001b[32m\u001b[01mEpoch 60:\u001b[0m\n",
      "Cost on iteration 8000: 0.00634\n",
      "\u001b[01mCost on final iteration: 0.017301402986049652\u001b[0m\n"
     ]
    }
   ],
   "source": [
    "# Train\n",
    "model.train()\n",
    "\n",
    "constant = 1000 # interval for printing cost\n",
    "epochs = 70 # number of epochs\n",
    "epoch_constant = 20 # interval for printing epoch\n",
    "\n",
    "for e in range(epochs):\n",
    "    if e % epoch_constant == 0: print(colors.fg.green + colors.bold + \"Epoch \" + str(e) + \":\" + colors.reset)\n",
    "    \n",
    "    train_loader = torch.utils.data.DataLoader(train_set, batch_size=512, shuffle=True, num_workers=4)\n",
    "    for batch in train_loader:\n",
    "        X = batch[0].to(device)\n",
    "        y = batch[1].to(device)\n",
    "        model.zero_grad()\n",
    "        \n",
    "        hypothesis = model(X)\n",
    "        cost = criterion(hypothesis, y)\n",
    "        cost.backward()\n",
    "        optimizer.step()\n",
    "        \n",
    "        if counter % constant == 0:\n",
    "            print(\"Cost on iteration \" + str(counter) + \": \" + str(round(cost.item(), 5)))\n",
    "        counter += 1\n",
    "    \n",
    "    scheduler.step()\n",
    "if counter % constant != 0: print(colors.bold + \"Cost on final iteration: \" + str(cost.item()) + colors.reset)"
   ]
  },
  {
   "cell_type": "code",
   "execution_count": 5,
   "metadata": {
    "code_folding": [
     0
    ],
    "scrolled": false
   },
   "outputs": [
    {
     "name": "stderr",
     "output_type": "stream",
     "text": [
      "100%|████████████████████████████████████████████████████████████████████████████████████████████████████████████████████████████████████████████████████████████████████████████████████████████████████████████████████████████████████| 60000/60000 [01:08<00:00, 878.77it/s]\n",
      "100%|████████████████████████████████████████████████████████████████████████████████████████████████████████████████████████████████████████████████████████████████████████████████████████████████████████████████████████████████████| 10000/10000 [00:11<00:00, 884.24it/s]"
     ]
    },
    {
     "name": "stdout",
     "output_type": "stream",
     "text": [
      "Train Accuracy: 99.97167%\n",
      "Dev Accuracy: 99.43%\n"
     ]
    },
    {
     "name": "stderr",
     "output_type": "stream",
     "text": [
      "\n"
     ]
    }
   ],
   "source": [
    "# Evaluate\n",
    "model.eval()\n",
    "\n",
    "# Train Evaluation\n",
    "examples = 60000\n",
    "counter = 0\n",
    "for i in tqdm(range(examples)):\n",
    "    X = train_set[i][0].to(device)\n",
    "    y = train_set[i][1]\n",
    "    \n",
    "    if model(X.view(1, 1, 32, 32)).argmax(1).item() == y:\n",
    "        counter += 1\n",
    "train_accuracy = counter / examples\n",
    "\n",
    "# CV Evaluation\n",
    "examples = 10000\n",
    "counter = 0\n",
    "for i in tqdm(range(examples)):\n",
    "    X = test_set[i][0].to(device)\n",
    "    y = test_set[i][1]\n",
    "    \n",
    "    if model(X.view(1, 1, 32, 32)).argmax(1).item() == y:\n",
    "        counter += 1\n",
    "test_accuracy = counter / examples\n",
    "\n",
    "print(\"Train Accuracy: \" + str(round(train_accuracy * 100, 5)) + \"%\")\n",
    "print(\"Dev Accuracy: \" + str(round(test_accuracy * 100, 5)) + \"%\")"
   ]
  },
  {
   "cell_type": "code",
   "execution_count": 6,
   "metadata": {
    "code_folding": [
     1
    ],
    "scrolled": true
   },
   "outputs": [
    {
     "name": "stdout",
     "output_type": "stream",
     "text": [
      "\u001b[35m\u001b[01m\u001b[04mExample 8909:\u001b[0m\n",
      "\u001b[32m\u001b[01mThe target(5) is equal to the hypothesis(5).\u001b[0m\n"
     ]
    },
    {
     "data": {
      "image/png": "[encoded data removed]",
      "text/plain": [
       "<Figure size 432x288 with 1 Axes>"
      ]
     },
     "metadata": {
      "needs_background": "light"
     },
     "output_type": "display_data"
    }
   ],
   "source": [
    "model.eval()\n",
    "def mnister(x):\n",
    "    print(colors.fg.purple + colors.bold + colors.underline + \"Example \" + str(x) + \":\" + colors.reset)\n",
    "    \n",
    "    hypothesis = model(test_set[x][0].view(1, 1, 32, 32).to(device)).argmax(1).item()\n",
    "    target = test_set[x][1]\n",
    "    if target == hypothesis:\n",
    "        print(colors.fg.green+colors.bold+\"The target(\"+str(target)+\") is equal to the hypothesis(\"+str(hypothesis)+\").\"+colors.reset)\n",
    "    else:\n",
    "        print(colors.fg.red+colors.bold+\"The target(\"+str(target)+\") is not equal to the hypothesis(\"+str(hypothesis)+\").\"+colors.reset)\n",
    "        \n",
    "    plt.imshow(test_set[x][0].squeeze(), cmap=\"gray\")\n",
    "    return plt.show()\n",
    "\n",
    "mnister(randint(1, 10000))"
   ]
  },
  {
   "cell_type": "code",
   "execution_count": 7,
   "metadata": {},
   "outputs": [],
   "source": [
    "torch.save(model.state_dict(), 'MNIST.pt') # Save parameters"
   ]
  }
 ],
 "metadata": {
  "kernelspec": {
   "display_name": "Python 3 (ipykernel)",
   "language": "python",
   "name": "python3"
  },
  "language_info": {
   "codemirror_mode": {
    "name": "ipython",
    "version": 3
   },
   "file_extension": ".py",
   "mimetype": "text/x-python",
   "name": "python",
   "nbconvert_exporter": "python",
   "pygments_lexer": "ipython3",
   "version": "3.9.12"
  }
 },
 "nbformat": 4,
 "nbformat_minor": 4
}
